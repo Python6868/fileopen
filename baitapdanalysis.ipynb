{
  "nbformat": 4,
  "nbformat_minor": 0,
  "metadata": {
    "colab": {
      "provenance": [],
      "authorship_tag": "ABX9TyO/rJfKEZnxoWec8sQqInhk",
      "include_colab_link": true
    },
    "kernelspec": {
      "name": "python3",
      "display_name": "Python 3"
    },
    "language_info": {
      "name": "python"
    }
  },
  "cells": [
    {
      "cell_type": "markdown",
      "metadata": {
        "id": "view-in-github",
        "colab_type": "text"
      },
      "source": [
        "<a href=\"https://colab.research.google.com/github/Python6868/fileopen/blob/main/baitapdanalysis.ipynb\" target=\"_parent\"><img src=\"https://colab.research.google.com/assets/colab-badge.svg\" alt=\"Open In Colab\"/></a>"
      ]
    },
    {
      "cell_type": "markdown",
      "source": [
        "# Bài Tập Lab2\n"
      ],
      "metadata": {
        "id": "i2hHGdhwTbFh"
      }
    },
    {
      "cell_type": "markdown",
      "source": [
        "#Bài 1"
      ],
      "metadata": {
        "id": "kqQzsFjxZFGX"
      }
    },
    {
      "cell_type": "code",
      "source": [
        "# Khai báo biến int\n",
        "int_1 = 10\n",
        "int_2 = 100\n",
        "int_3 = -789\n",
        "# Khai báo biến fload\n",
        "float_1 = 0.0\n",
        "float_2 = 15.20\n",
        "float_3 = -.9\n",
        "# Khai báo biến complex\n",
        "complex_1 = 3.14j\n",
        "complex_2 = 45.j\n",
        "complex_3 = 9.322e-36j\n",
        "print(f\"{'int':^10}{'float':^10}{'complex'}\")\n",
        "for i in range(1, 4):\n",
        "  print(f\"{locals()[f'int_{i}']:<10}{locals()[f'float_{i}']:<10}{locals()[f'complex_{i}']:<10}\")\n"
      ],
      "metadata": {
        "colab": {
          "base_uri": "https://localhost:8080/"
        },
        "id": "0QQOdGaCDBUa",
        "outputId": "efbfc164-658a-481c-dd52-1415f903d89b"
      },
      "execution_count": 6,
      "outputs": [
        {
          "output_type": "stream",
          "name": "stdout",
          "text": [
            "   int      float   complex\n",
            "10        0.0       3.14j     \n",
            "100       15.2      45j       \n",
            "-789      -0.9      9.322e-36j\n"
          ]
        }
      ]
    },
    {
      "cell_type": "markdown",
      "source": [
        "# Bài 2\n",
        "Chuyển các giá trị sau ra số nguyên (int)\n",
        "12.365\n",
        "“15.99”\n",
        "-13.5\n",
        "\n",
        "Chuyển các xâu sau ra số thực\n",
        "“-32.54e6”\n",
        "“-.9e6”\n"
      ],
      "metadata": {
        "id": "tEZYF3hiaMFn"
      }
    },
    {
      "cell_type": "code",
      "source": [
        "# Chuyển các giá trị sau ra số nguyên (int)\n",
        "x = 12.365\n",
        "y = \"15.99\"\n",
        "z = -13.5\n",
        "print(int(x))\n",
        "print(int(float(y)))\n",
        "print(int(z))\n",
        "# Chuyển các xâu ra số thực\n",
        "xau_1 = \"-32.54e6\"\n",
        "xau_2 = \"-.9e6\"\n",
        "print(float(xau_1))\n",
        "print(float(xau_2))"
      ],
      "metadata": {
        "colab": {
          "base_uri": "https://localhost:8080/"
        },
        "id": "dw94oRm5aLVn",
        "outputId": "22802a6e-0692-4017-c71e-fcd85de5b80f"
      },
      "execution_count": 16,
      "outputs": [
        {
          "output_type": "stream",
          "name": "stdout",
          "text": [
            "12\n",
            "15\n",
            "-13\n",
            "-32540000.0\n",
            "-900000.0\n"
          ]
        }
      ]
    },
    {
      "cell_type": "markdown",
      "source": [
        "# Bài 3\n",
        "Sử dụng hàm math.ceil và math.floor trên 4 giá trị 15.11; 15.99; -15.11; -15.99. Từ đó bạn cần rút ra nhận xét về 2 hàm này\n",
        "\n",
        "Tính round(5.4), round(5.5), round(5.6) và round(-5.4)\n",
        "\n",
        "Làm tròn đến 2 chữ số cho các giá trị 5.431; 5.435; và 5.439. Xem kết quả và bạn cần rút ra nhận xét về hàm round.\n"
      ],
      "metadata": {
        "id": "ZWf1AJEt0PC7"
      }
    },
    {
      "cell_type": "code",
      "source": [
        "import math\n",
        "# Sử dụng hàm math.ceil\n",
        "print(math.ceil(15.11))\n",
        "print(math.ceil(15.99))\n",
        "print(math.ceil(-15.11))\n",
        "print(math.ceil(-15.99))\n",
        "print()\n",
        "# Sử dụng hàm math.floor\n",
        "print(math.floor(15.11))\n",
        "print(math.floor(15.99))\n",
        "print(math.floor(-15.11))\n",
        "print(math.floor(-15.99))\n",
        "# Nhận xét hàm math.ceil làm tròn lên với số dương, số âm ngược lại\n",
        "print(round(5.4))\n",
        "print(round(5.5))\n",
        "print(round(5.6))\n",
        "print()\n",
        "print(round(-5.4))\n",
        "print(round(-5.5))\n",
        "print(round(-5.6))\n",
        "print()\n",
        "print(round(5.431,2))\n",
        "print(round(5.435,2))\n",
        "print(round(5.439,2))"
      ],
      "metadata": {
        "colab": {
          "base_uri": "https://localhost:8080/"
        },
        "id": "6Lc77OQK0RUT",
        "outputId": "eb37570f-f53d-4199-9aae-138b1d8ff52f"
      },
      "execution_count": 10,
      "outputs": [
        {
          "output_type": "stream",
          "name": "stdout",
          "text": [
            "16\n",
            "16\n",
            "-15\n",
            "-15\n",
            "\n",
            "15\n",
            "15\n",
            "-16\n",
            "-16\n",
            "5\n",
            "6\n",
            "6\n",
            "\n",
            "-5\n",
            "-6\n",
            "-6\n",
            "\n",
            "5.43\n",
            "5.43\n",
            "5.44\n"
          ]
        }
      ]
    },
    {
      "cell_type": "markdown",
      "source": [
        "🔥 Nhận xét\n",
        "math.ceil(x): Làm tròn lên đến số nguyên lớn hơn hoặc bằng x.\n",
        "🔹 Dương: math.ceil(15.11) → 16, math.ceil(15.99) → 16\n",
        "🔹 Âm: math.ceil(-15.11) → -15, math.ceil(-15.99) → -15\n",
        "\n",
        "math.floor(x): Làm tròn xuống đến số nguyên nhỏ hơn hoặc bằng x.\n",
        "🔹 Dương: math.floor(15.11) → 15, math.floor(15.99) → 15\n",
        "🔹 Âm: math.floor(-15.11) → -16, math.floor(-15.99) → -16\n",
        "\n",
        "📌 Kết luận:\n",
        "\n",
        "Dương: ceil() luôn làm tròn lên, floor() làm tròn xuống.\n",
        "Âm: ceil() làm tròn lên (đến số nhỏ hơn về giá trị tuyệt đối), floor() làm tròn xuống (đến số nhỏ hơn hơn thực tế).\n",
        "**********************\n",
        "🔥 Nhận xét về round()\n",
        "round(x) làm tròn đến số nguyên gần nhất.\n",
        "Nếu .5, Python sẽ làm tròn về số chẵn gần nhất!\n",
        "round(5.5) → 6 (vì 6 là số chẵn gần nhất)\n",
        "round(4.5) → 4 (vì 4 là số chẵn gần nhất)\n",
        "📌 Kết luận: round() sử dụng quy tắc làm tròn đến số chẵn gần nhất khi .5 (Bankers' rounding)\n",
        "*********************\n",
        "🔥 Nhận xét\n",
        "round(5.431, 2) → 5.43 (làm tròn xuống)\n",
        "round(5.435, 2) → 5.44 (làm tròn lên do .5)\n",
        "round(5.439, 2) → 5.44 (làm tròn lên)\n",
        "📌 Kết luận:\n",
        "\n",
        "round(x, n) làm tròn đến n chữ số thập phân.\n",
        "Khi .5, Python làm tròn lên.\n",
        "************************\n",
        "🎯 Tóm tắt quan trọng\n",
        "Hàm\tChức năng\tVí dụ\n",
        "math.ceil(x)\tLàm tròn lên\tmath.ceil(3.1) → 4\n",
        "math.floor(x)\tLàm tròn xuống\tmath.floor(3.9) → 3;\n",
        "round(x)\tLàm tròn về số nguyên gần nhất\tround(5.5) → 6;\n",
        "round(x, n)\tLàm tròn đến n chữ số thập phân\tround(5.435, 2) → 5.44"
      ],
      "metadata": {
        "id": "FjCxlq71Z67S"
      }
    },
    {
      "cell_type": "code",
      "source": [
        "print(12345)\n",
        "print(6)"
      ],
      "metadata": {
        "id": "2HuCFBJz-gO_"
      },
      "execution_count": null,
      "outputs": []
    },
    {
      "cell_type": "markdown",
      "source": [
        "# Bài 4\n",
        "In ra kết quả sau: modf(4.56)\n",
        "Kết quả trả về là kiểu dữ liệu gì?\n",
        "Từ kết quả trả về, lưu phần nguyên và phần thực ra 2 biến riêng biệt, và in ra giá trị của 2 biến này\n"
      ],
      "metadata": {
        "id": "_KeMYqyebc5T"
      }
    },
    {
      "cell_type": "code",
      "source": [
        "import math\n",
        "print(math.modf(4.56))\n",
        "for x in math.modf(4.56):\n",
        "  print(x)"
      ],
      "metadata": {
        "colab": {
          "base_uri": "https://localhost:8080/"
        },
        "id": "VweNzfTMbfVK",
        "outputId": "1334800c-11f1-4e96-98b8-6b1d38befafe"
      },
      "execution_count": 18,
      "outputs": [
        {
          "output_type": "stream",
          "name": "stdout",
          "text": [
            "(0.5599999999999996, 4.0)\n",
            "0.5599999999999996\n",
            "4.0\n"
          ]
        }
      ]
    },
    {
      "cell_type": "markdown",
      "source": [
        "# Bài 5\n",
        "\n",
        "Tính max, min của bộ 3 giá trị: 2^(3^4 ), 3^(2^4 ), và 4^(3^2 )\n",
        "\n",
        "\n"
      ],
      "metadata": {
        "id": "erXOGrXDhj5J"
      }
    },
    {
      "cell_type": "code",
      "source": [
        "value = [2**(3**4), 3**(2**4), 4**(3**2)]\n",
        "print(\"Giá trị max của bộ 3 giá trị: \", max(value))\n",
        "print(\"Giá trị min của bộ 3 giá trị: \", min(value))\n"
      ],
      "metadata": {
        "colab": {
          "base_uri": "https://localhost:8080/"
        },
        "id": "l0YXdeprmtTn",
        "outputId": "e718f44e-4983-4b5b-e771-c437201d79ea"
      },
      "execution_count": 20,
      "outputs": [
        {
          "output_type": "stream",
          "name": "stdout",
          "text": [
            "Giá trị max của bộ 3 giá trị:  2417851639229258349412352\n",
            "Giá trị min của bộ 3 giá trị:  262144\n"
          ]
        }
      ]
    },
    {
      "cell_type": "markdown",
      "source": [
        "# Bài 6\n",
        "Cho xâu s = “The best of the BBC, with the latest news and sport headlines, weather, TV & radio highlights and much more from across”\n",
        "\n",
        "Cần xử lý sao cho tách được xâu con x, từ chữ “with” đến hết xâu s. In xâu x ra màn hình\n",
        "\n",
        "Lưu ý: x = “with the latest news and sport headlines, weather, TV & radio highlights and much more from across”\n"
      ],
      "metadata": {
        "id": "AqGVBBtAnqeW"
      }
    },
    {
      "cell_type": "code",
      "source": [
        "s = \"The best of the BBC, with the latest news and sport headlines, weather, TV & radio highlights and much more from across\"\n",
        "print(s[21:])"
      ],
      "metadata": {
        "colab": {
          "base_uri": "https://localhost:8080/"
        },
        "id": "fbge1ecWn2cO",
        "outputId": "b9bf80a7-cfc5-481d-adab-bcf2dda6a705"
      },
      "execution_count": 26,
      "outputs": [
        {
          "output_type": "stream",
          "name": "stdout",
          "text": [
            "with the latest news and sport headlines, weather, TV & radio highlights and much more from across\n"
          ]
        }
      ]
    },
    {
      "cell_type": "markdown",
      "source": [
        "# Bài 7\n",
        "In dòng chữ sau ra màn hình\n",
        "\n",
        "Hello everyone. My barcode's \\44GFD\\\n"
      ],
      "metadata": {
        "id": "e0hMneQWquqd"
      }
    },
    {
      "cell_type": "code",
      "source": [
        "print(\"Hello everyone. My barcode's \\\\44GFD\\\\\")"
      ],
      "metadata": {
        "colab": {
          "base_uri": "https://localhost:8080/"
        },
        "id": "8xCXGGDnq3Vz",
        "outputId": "9c726eae-9c63-4bd1-821f-859d980e92d6"
      },
      "execution_count": 29,
      "outputs": [
        {
          "output_type": "stream",
          "name": "stdout",
          "text": [
            "Hello everyone. My barcode's \\44GFD\\\n"
          ]
        }
      ]
    },
    {
      "cell_type": "markdown",
      "source": [
        "# Bài 8\n",
        "Cho một list:\n",
        "\n",
        "list = [“Nguyễn Văn Nam”, “Trần Xuân Hải”, “Lương Thế Anh”]\n",
        "\n",
        "Bạn cần làm các nhiệm vụ sau:\n",
        "\n",
        "•\tXóa 2 phần tử đầu tiên của list\n",
        "\n",
        "•\tIn list sau khi xóa\n",
        "\n",
        "•\tThêm lại 2 phần tử đã xóa, sao cho list mới có thứ tự tên xếp theo A-B-C (Lương Thế Anh là phần tử đầu tiên, sau đó đến Trần Xuân Hải và sau cùng là Nguyễn Văn Nam)\n",
        "\n",
        "•\tIn lại list sau khi thêm 2 phần tử\n",
        "\n"
      ],
      "metadata": {
        "id": "BXyG_wQvuxa9"
      }
    },
    {
      "cell_type": "code",
      "source": [
        "list = [\"Nguyễn Văn Nam\", \"Trần Xuân Hải\", \"Lương Thế Anh\"]\n",
        "print(list)\n",
        "del list[:2]\n",
        "print(list)\n",
        "list.insert(1, \"Trần Xuân Hải\")\n",
        "list.insert(2, \"Nguyễn Văn Nam\")\n",
        "print(list)"
      ],
      "metadata": {
        "colab": {
          "base_uri": "https://localhost:8080/"
        },
        "id": "5CUqzS-UvxAs",
        "outputId": "e2329b1e-53f1-43fa-bd1b-a4eb3a14b8dd"
      },
      "execution_count": 44,
      "outputs": [
        {
          "output_type": "stream",
          "name": "stdout",
          "text": [
            "['Nguyễn Văn Nam', 'Trần Xuân Hải', 'Lương Thế Anh']\n",
            "['Lương Thế Anh']\n",
            "['Lương Thế Anh', 'Trần Xuân Hải', 'Nguyễn Văn Nam']\n"
          ]
        }
      ]
    },
    {
      "cell_type": "markdown",
      "source": [
        "# Bài 9\n",
        "Tạo 1 tập hợp (set) s1 với các phần tử là “Nam”, “Hải”, “Hoàng”, “Hùng”, “An”\n",
        "\n",
        "In tập hợp s1 ra màn hình\n",
        "\n",
        "Thêm vào tập hợp s1 phần tử “Bắc”. In lại s1\n",
        "\n",
        "Xóa phần tử “An” ra khỏi tập hợp. Bạn sẽ dùng phương thức discard hay remove, tại sao? In lại s1?\n",
        "\n",
        "Sau cùng, thêm vào tập hợp s1 đồng thời 4 phần tử là “Hải”, “Tuấn”, “Dũng”, “Bắc”. Theo bạn sau cùng, s1 sẽ có bao nhiêu phần tử, là những phần tử nào. In kết quả s1 ra màn hình để kiểm tra.\n"
      ],
      "metadata": {
        "id": "QKhub-YJx7LZ"
      }
    },
    {
      "cell_type": "code",
      "source": [
        "s1 = {\"Nam\", \"Hải\", \"Hoàng\", \"Hùng\", \"An\"}\n",
        "print(s1)\n",
        "s1.add(\"Bắc\")\n",
        "print(s1)\n",
        "s1.remove(\"An\")\n",
        "print(s1)\n",
        "s1.update([\"Hải\", \"Tuấn\", \"Dũng\", \"Bắc\"])\n",
        "print(s1)\n",
        "n = len(s1)\n",
        "print(n)\n",
        "for x in s1:\n",
        "  print(x)\n"
      ],
      "metadata": {
        "colab": {
          "base_uri": "https://localhost:8080/"
        },
        "id": "_aEguQw0zMmU",
        "outputId": "43600396-ecd4-44bb-dd44-7efbc92e3034"
      },
      "execution_count": 59,
      "outputs": [
        {
          "output_type": "stream",
          "name": "stdout",
          "text": [
            "{'Hoàng', 'Hùng', 'Nam', 'Hải', 'An'}\n",
            "{'Hoàng', 'Hùng', 'Nam', 'Hải', 'An', 'Bắc'}\n",
            "{'Hoàng', 'Hùng', 'Nam', 'Hải', 'Bắc'}\n",
            "{'Hoàng', 'Hùng', 'Dũng', 'Nam', 'Hải', 'Tuấn', 'Bắc'}\n",
            "7\n",
            "Hoàng\n",
            "Hùng\n",
            "Dũng\n",
            "Nam\n",
            "Hải\n",
            "Tuấn\n",
            "Bắc\n"
          ]
        }
      ]
    },
    {
      "cell_type": "markdown",
      "source": [
        "# Bài 10\n",
        "Sử dụng kiểu dữ liệu từ điển, tạo một cuốn danh bạ điện thoại có cấu trúc như sau. In danh bạ ban đầu ra màn hình.\n",
        "\n",
        "{\n",
        "“Nguyễn Văn Hùng”: {“SĐT”: “0913212454”, “email”: “hungnv@gmail.com”, “address”: “23 Nguyễn Trãi, Thanh Xuân, Hà Nội”},\n",
        "“Nguyễn Văn Nam”: {“SĐT”: “0913213454”, “email”: “namnv@gmail.com”, “address”: “15 Đại Cồ Việt, Hai Bà Trưng, Hà Nội”},\n",
        "}\n",
        "\n",
        "Xóa “Nguyễn Văn Hùng” ra khỏi danh bạ. In lại danh bạ.\n",
        "\n",
        "\n",
        "Thêm mới 2 liên hệ khác vào danh bạ điện thoại. In ra danh bạ.\n",
        "\n",
        "\n",
        "In ra màn hình SĐT của một người nào đó (Ví dụ SĐT của Nguyễn Văn Nam)\n",
        "\n"
      ],
      "metadata": {
        "id": "kNjaqwPT0o3z"
      }
    },
    {
      "cell_type": "code",
      "source": [
        "data = { \"Nguyễn Văn Hùng\": {\"SĐT\": \"0913212454\", \"email\": \"hungnv@gmail.com\", \"address\": \"23 Nguyễn Trãi, Thanh Xuân, Hà Nội\"}, \"Nguyễn Văn Nam\": {\"SĐT\": \"0913213454\", \"email\": \"namnv@gmail.com\", \"address\": \"15 Đại Cồ Việt, Hai Bà Trưng, Hà Nội\"}, }\n",
        "data = { \"Nguyễn Văn Hùng\": {\"SĐT\": \"0913212454\", \"email\": \"hungnv@gmail.com\", \"address\": \"23 Nguyễn Trãi, Thanh Xuân, Hà Nội\"}, \"Nguyễn Văn Nam\": {\"SĐT\": \"0913213454\", \"email\": \"namnv@gmail.com\", \"address\": \"15 Đại Cồ Việt, Hai Bà Trưng, Hà Nội\"}, }\n",
        "del data[\"Nguyễn Văn Hùng\"]\n",
        "print(data)\n",
        "data.update({\"Nguyễn Tuấn Anh\": {\"SĐT\": \"0913213454\", \"email\": \"tuananh@gmail.com\", \"address\": \"15 Đại Cồ Việt, Hai Bà Trưng, Hà Nội\"}})\n",
        "print(data)\n",
        "print(\"SĐT của Nguyễn Văn Nam: \", data[\"Nguyễn Văn Nam\"][\"SĐT\"])"
      ],
      "metadata": {
        "colab": {
          "base_uri": "https://localhost:8080/"
        },
        "id": "wQr6hrQM0z0z",
        "outputId": "8a6156f3-5f66-4dd3-e6f8-3d10b6a0a11b"
      },
      "execution_count": 71,
      "outputs": [
        {
          "output_type": "stream",
          "name": "stdout",
          "text": [
            "{'Nguyễn Văn Nam': {'SĐT': '0913213454', 'email': 'namnv@gmail.com', 'address': '15 Đại Cồ Việt, Hai Bà Trưng, Hà Nội'}}\n",
            "{'Nguyễn Văn Nam': {'SĐT': '0913213454', 'email': 'namnv@gmail.com', 'address': '15 Đại Cồ Việt, Hai Bà Trưng, Hà Nội'}, 'Nguyễn Tuấn Anh': {'SĐT': '0913213454', 'email': 'tuananh@gmail.com', 'address': '15 Đại Cồ Việt, Hai Bà Trưng, Hà Nội'}}\n",
            "SĐT của Nguyễn Văn Nam:  0913213454\n"
          ]
        }
      ]
    },
    {
      "cell_type": "markdown",
      "source": [
        "# Bài 11\n",
        "In ra kết quả logic của mệnh đề: 2^(3^4 ) lớn hơn 2^(4^3 )"
      ],
      "metadata": {
        "id": "a4o0hhKgGBJG"
      }
    },
    {
      "cell_type": "code",
      "source": [
        "print(bool(2**(3**4) > 2**(4**3)))"
      ],
      "metadata": {
        "colab": {
          "base_uri": "https://localhost:8080/"
        },
        "id": "nVRJ0LvyF8iO",
        "outputId": "5747a44e-b0c8-4636-f5b5-230ba060ae29"
      },
      "execution_count": 72,
      "outputs": [
        {
          "output_type": "stream",
          "name": "stdout",
          "text": [
            "True\n"
          ]
        }
      ]
    }
  ]
}